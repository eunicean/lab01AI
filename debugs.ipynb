{
 "cells": [
  {
   "cell_type": "code",
   "execution_count": 1,
   "metadata": {},
   "outputs": [],
   "source": [
    "import pandas as pd\n",
    "import heapq"
   ]
  },
  {
   "cell_type": "code",
   "execution_count": 2,
   "metadata": {},
   "outputs": [],
   "source": [
    "class Nodo:\n",
    "    def __init__(self, estado, action=None, parent=None, costo_acumulado=0, heuristica=0):\n",
    "        self.estado = estado  # Lugar donde se encuentra actualmente\n",
    "        self.action = action  # Acción que se utilizó para moverse\n",
    "        self.parent = parent  # Nodo padre del que vino\n",
    "        self.costo_acumulado = costo_acumulado  # Suma de los costos hasta este punto\n",
    "        self.heuristica = heuristica  # Heurística asociada al nodo\n",
    "\n",
    "    def __lt__(self, otro):\n",
    "        return (self.costo_acumulado + self.heuristica) < (otro.costo_acumulado + otro.heuristica)  # Comparación para PRIORITY"
   ]
  },
  {
   "cell_type": "code",
   "execution_count": 3,
   "metadata": {},
   "outputs": [],
   "source": [
    "# Estructuras de colas\n",
    "class ColaFIFO:\n",
    "    def __init__(self):\n",
    "        self.cola = []\n",
    "\n",
    "    def empty(self):\n",
    "        return len(self.cola) == 0\n",
    "\n",
    "    def top(self):\n",
    "        return self.cola[0] if not self.empty() else None\n",
    "\n",
    "    def pop(self):\n",
    "        return self.cola.pop(0) if not self.empty() else None\n",
    "\n",
    "    def add(self, elemento):\n",
    "        self.cola.append(elemento)\n",
    "        return self.cola"
   ]
  },
  {
   "cell_type": "code",
   "execution_count": 4,
   "metadata": {},
   "outputs": [],
   "source": [
    "class ColaLIFO:\n",
    "    def __init__(self):\n",
    "        self.cola = []\n",
    "\n",
    "    def empty(self):\n",
    "        return len(self.cola) == 0\n",
    "\n",
    "    def top(self):\n",
    "        return self.cola[-1] if not self.empty() else None\n",
    "\n",
    "    def pop(self):\n",
    "        return self.cola.pop() if not self.empty() else None\n",
    "\n",
    "    def add(self, elemento):\n",
    "        self.cola.append(elemento)\n",
    "        return self.cola"
   ]
  },
  {
   "cell_type": "code",
   "execution_count": 5,
   "metadata": {},
   "outputs": [],
   "source": [
    "class ColaPRIORITY:\n",
    "    def __init__(self):\n",
    "        self.cola = []\n",
    "\n",
    "    def empty(self):\n",
    "        return len(self.cola) == 0\n",
    "\n",
    "    def top(self):\n",
    "        return self.cola[0] if not self.empty() else None\n",
    "\n",
    "    def pop(self):\n",
    "        return heapq.heappop(self.cola) if not self.empty() else None\n",
    "\n",
    "    def add(self, elemento):\n",
    "        heapq.heappush(self.cola, elemento)\n",
    "        return self.cola"
   ]
  },
  {
   "cell_type": "code",
   "execution_count": 6,
   "metadata": {},
   "outputs": [],
   "source": [
    "def leer_funcion_costo(archivo):\n",
    "    df = pd.read_csv(archivo)\n",
    "    costos = {}\n",
    "    for _, fila in df.iterrows():\n",
    "        origen = fila['Origen']\n",
    "        destino = fila['Destino']\n",
    "        costo = fila['Cost']\n",
    "        if origen not in costos:\n",
    "            costos[origen] = {}\n",
    "        costos[origen][destino] = costo\n",
    "    return costos\n",
    "\n",
    "def leer_heuristica(archivo):\n",
    "    df = pd.read_csv(archivo)\n",
    "    heuristicas = {}\n",
    "    for _, fila in df.iterrows():\n",
    "        actividad = fila['Activity']\n",
    "        tiempo_recuperacion = fila['Recovery time after burning 300cal (minutes)']\n",
    "        heuristicas[actividad] = tiempo_recuperacion\n",
    "    return heuristicas"
   ]
  },
  {
   "cell_type": "code",
   "execution_count": 7,
   "metadata": {},
   "outputs": [
    {
     "name": "stdout",
     "output_type": "stream",
     "text": [
      "Costos: {'Warm-up activities': {'Skipping Rope': 10, 'Exercise bike': 10, 'Tread Mill': 10, 'Step Mill': 10}, 'Skipping Rope': {'Dumbbell': 15, 'Barbell': 15}, 'Exercise bike': {'Cable-Crossover': 25}, 'Tread Mill': {'Pulling Bars': 20, 'Incline Bench': 20}, 'Step Mill': {'Incline Bench': 16}, 'Dumbbell': {'Leg Press Machine': 12}, 'Barbell': {'Leg Press Machine': 10}, 'Cable-Crossover': {'Climbing Rope': 10}, 'Pulling Bars': {'Climbing Rope': 6}, 'Incline Bench': {'Hammer Strength': 20}, 'Leg Press Machine': {'Stretching': 11}, 'Climbing Rope': {'Stretching': 10}, 'Hammer Strength': {'Stretching': 8}}\n",
      "Heurísticas: {'Warm-up activities': 5, 'Skipping Rope': 16, 'Exercise bike': 10, 'Tread Mill': 12, 'Step Mill': 14, 'Dumbbell': 9, 'Barbell': 10, 'Cable-Crossover': 8, 'Pulling Bars': 10, 'Incline Bench': 8, 'Leg Press Machine': 8, 'Climbing Rope': 5, 'Hammer Strength': 4, 'Stretching': 0}\n"
     ]
    }
   ],
   "source": [
    "archivo_funcion_costo = \"funcion_de_costo.csv\"\n",
    "archivo_heuristica = \"heuristica.csv\"\n",
    "\n",
    "costos = leer_funcion_costo(archivo_funcion_costo)\n",
    "heuristicas = leer_heuristica(archivo_heuristica)\n",
    "\n",
    "print(\"Costos:\", costos)\n",
    "print(\"Heurísticas:\", heuristicas)"
   ]
  },
  {
   "cell_type": "code",
   "execution_count": 8,
   "metadata": {},
   "outputs": [
    {
     "name": "stdout",
     "output_type": "stream",
     "text": [
      "FIFO Top: Warm-up activities\n",
      "FIFO Pop: Warm-up activities\n",
      "FIFO Top: Skipping Rope\n",
      "PRIORITY Top: Warm-up activities\n",
      "PRIORITY Pop: Warm-up activities\n",
      "Skipping Rope\n"
     ]
    }
   ],
   "source": [
    "\n",
    "fifo = ColaFIFO()\n",
    "fifo.add(Nodo(\"Warm-up activities\", action=\"\", costo_acumulado=10, heuristica=5))\n",
    "fifo.add(Nodo(\"Skipping Rope\", action=\"to Skipping Rope\", costo_acumulado=20, heuristica=16))\n",
    "print(\"FIFO Top:\", fifo.top().estado)\n",
    "print(\"FIFO Pop:\", fifo.pop().estado)\n",
    "print(\"FIFO Top:\", fifo.top().estado)\n",
    "\n",
    "priority = ColaPRIORITY()\n",
    "priority.add(Nodo(\"Warm-up activities\", action=\"to Skipping Rope\", costo_acumulado=10, heuristica=5))\n",
    "priority.add(Nodo(\"Skipping Rope\", action=\"to Exercise bike\", costo_acumulado=20, heuristica=16))\n",
    "print(\"PRIORITY Top:\", priority.top().estado)\n",
    "print(\"PRIORITY Pop:\", priority.pop().estado)\n",
    "print(priority.top().estado)"
   ]
  },
  {
   "cell_type": "code",
   "execution_count": 9,
   "metadata": {},
   "outputs": [
    {
     "name": "stdout",
     "output_type": "stream",
     "text": [
      "15\n"
     ]
    }
   ],
   "source": [
    "print(costos[\"Skipping Rope\"][\"Dumbbell\"])"
   ]
  },
  {
   "cell_type": "code",
   "execution_count": null,
   "metadata": {},
   "outputs": [],
   "source": []
  }
 ],
 "metadata": {
  "kernelspec": {
   "display_name": "Python 3",
   "language": "python",
   "name": "python3"
  },
  "language_info": {
   "codemirror_mode": {
    "name": "ipython",
    "version": 3
   },
   "file_extension": ".py",
   "mimetype": "text/x-python",
   "name": "python",
   "nbconvert_exporter": "python",
   "pygments_lexer": "ipython3",
   "version": "3.12.4"
  }
 },
 "nbformat": 4,
 "nbformat_minor": 2
}
